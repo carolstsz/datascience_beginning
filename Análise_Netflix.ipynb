{
  "nbformat": 4,
  "nbformat_minor": 0,
  "metadata": {
    "colab": {
      "name": "Análise Netflix.ipynb",
      "provenance": [],
      "collapsed_sections": [],
      "toc_visible": true,
      "authorship_tag": "ABX9TyNAUjolo3jW+QT0ByIXLmPB",
      "include_colab_link": true
    },
    "kernelspec": {
      "name": "python3",
      "display_name": "Python 3"
    }
  },
  "cells": [
    {
      "cell_type": "markdown",
      "metadata": {
        "id": "view-in-github",
        "colab_type": "text"
      },
      "source": [
        "<a href=\"https://colab.research.google.com/github/carolstsz/datascience_beginning/blob/master/An%C3%A1lise_Netflix.ipynb\" target=\"_parent\"><img src=\"https://colab.research.google.com/assets/colab-badge.svg\" alt=\"Open In Colab\"/></a>"
      ]
    },
    {
      "cell_type": "markdown",
      "metadata": {
        "id": "XsaQ6zNeS5c9"
      },
      "source": [
        "# **O que eu costumo assistir na Netflix?**\n",
        "##### Análise dos meus dados na plataforma"
      ]
    },
    {
      "cell_type": "markdown",
      "metadata": {
        "id": "2LyfBYzLUABz"
      },
      "source": [
        "Que a Netflix é maior plataforma de streaming do mundo, não é novidade para ninguém. Avaliada em mais de [U$ 200 bilhões](https://ycharts.com/companies/NFLX/market_cap), a empresa já superou o valor de mercado da [Disney](https://https://economia.uol.com.br/noticias/bloomberg/2020/03/24/netflix-supera-disney-em-valor-de-mercado-em-meio-a-quarentenas.htm) — que recentemente também lançou seu próprio serviço de streaming. \n",
        "\n",
        "A liderança da empresa se dá principalmente pela interface intuitiva, a estética, o aplicativo, o catálogo de filmes/séries, além das produções originais que têm ganhado cada vez mais destaque. \n",
        "\n",
        "Quem nunca fez a pergunta \"***Tem na Netflix?***\" quando alguém recomenda um filme ou série, não é mesmo?\n",
        "\n",
        "Com certeza saber que uma produção audiovisual está a um clique de distância é muito confortável. \n",
        "\n",
        "Eu fiz minha assinatura na plataforma em dezembro/2016 e desde então utilizo bastante. Assisto no computador, tv ou celular. Descubro séries novas e, principalmente, revejo a que mais gosto (veremos isso a seguir). \n",
        "\n",
        "**Neste notebook iremos analisar os dados referentes ao meu histórico de visualização.** \n",
        "\n",
        "\n",
        "\n",
        "\n"
      ]
    },
    {
      "cell_type": "markdown",
      "metadata": {
        "id": "biWPMPbTn4d5"
      },
      "source": [
        "### **Instalar bibliotecas e obter dados**"
      ]
    },
    {
      "cell_type": "markdown",
      "metadata": {
        "id": "jO18pSDmoIbQ"
      },
      "source": [
        "Os dados armanezados pela Netflix podem ser solicitados nesse [link](https://www.netflix.com/account/getmyinfo). \n",
        "\n",
        "Para essa análise o arquivo que será utilizado é o ***ViewingActivity.csv*** que contém o histórico de visualização da conta."
      ]
    },
    {
      "cell_type": "code",
      "metadata": {
        "id": "wRKnxQdm07sU"
      },
      "source": [
        "#importar bibliotecas\n",
        "import pandas as pd\n",
        "import matplotlib.pyplot as plt\n",
        "!pip install pywaffle -q\n",
        "from pywaffle import Waffle\n",
        "import matplotlib.ticker as mtick\n",
        "import matplotlib.pyplot as plt"
      ],
      "execution_count": 46,
      "outputs": []
    },
    {
      "cell_type": "code",
      "metadata": {
        "id": "dinDwpsu6tZ8"
      },
      "source": [
        "#importar base de dados\n",
        "df = pd.read_csv(\"/content/ViewingActivity.csv\")"
      ],
      "execution_count": 47,
      "outputs": []
    },
    {
      "cell_type": "code",
      "metadata": {
        "colab": {
          "base_uri": "https://localhost:8080/",
          "height": 391
        },
        "id": "7p1gf1Pe6you",
        "outputId": "d39dda98-4aa8-4637-dec3-4219eeb2b6c9"
      },
      "source": [
        "#visualização prévia dos dados\n",
        "df.head()"
      ],
      "execution_count": 48,
      "outputs": [
        {
          "output_type": "execute_result",
          "data": {
            "text/html": [
              "<div>\n",
              "<style scoped>\n",
              "    .dataframe tbody tr th:only-of-type {\n",
              "        vertical-align: middle;\n",
              "    }\n",
              "\n",
              "    .dataframe tbody tr th {\n",
              "        vertical-align: top;\n",
              "    }\n",
              "\n",
              "    .dataframe thead th {\n",
              "        text-align: right;\n",
              "    }\n",
              "</style>\n",
              "<table border=\"1\" class=\"dataframe\">\n",
              "  <thead>\n",
              "    <tr style=\"text-align: right;\">\n",
              "      <th></th>\n",
              "      <th>Profile Name</th>\n",
              "      <th>Start Time</th>\n",
              "      <th>Duration</th>\n",
              "      <th>Attributes</th>\n",
              "      <th>Title</th>\n",
              "      <th>Supplemental Video Type</th>\n",
              "      <th>Device Type</th>\n",
              "      <th>Bookmark</th>\n",
              "      <th>Latest Bookmark</th>\n",
              "      <th>Country</th>\n",
              "    </tr>\n",
              "  </thead>\n",
              "  <tbody>\n",
              "    <tr>\n",
              "      <th>0</th>\n",
              "      <td>Carolina</td>\n",
              "      <td>2021-01-14 02:06:14</td>\n",
              "      <td>00:00:11</td>\n",
              "      <td>Autoplayed: user action: None;</td>\n",
              "      <td>Instant Hotel: Temporada 1: Episódio 1 (Episód...</td>\n",
              "      <td>NaN</td>\n",
              "      <td>Chrome PC (Cadmium)</td>\n",
              "      <td>00:16:35</td>\n",
              "      <td>00:16:35</td>\n",
              "      <td>BR (Brazil)</td>\n",
              "    </tr>\n",
              "    <tr>\n",
              "      <th>1</th>\n",
              "      <td>Carolina</td>\n",
              "      <td>2021-01-14 01:23:01</td>\n",
              "      <td>00:43:11</td>\n",
              "      <td>NaN</td>\n",
              "      <td>Instant Hotel: Temporada 2: Episódio 6 (Episód...</td>\n",
              "      <td>NaN</td>\n",
              "      <td>Chrome PC (Cadmium)</td>\n",
              "      <td>00:46:53</td>\n",
              "      <td>00:46:53</td>\n",
              "      <td>BR (Brazil)</td>\n",
              "    </tr>\n",
              "    <tr>\n",
              "      <th>2</th>\n",
              "      <td>Carolina</td>\n",
              "      <td>2021-01-14 00:45:42</td>\n",
              "      <td>00:01:20</td>\n",
              "      <td>Autoplayed: user action: None;</td>\n",
              "      <td>Instant Hotel: Temporada 2: Episódio 6 (Episód...</td>\n",
              "      <td>NaN</td>\n",
              "      <td>Chrome PC (Cadmium)</td>\n",
              "      <td>00:01:29</td>\n",
              "      <td>Not latest view</td>\n",
              "      <td>BR (Brazil)</td>\n",
              "    </tr>\n",
              "    <tr>\n",
              "      <th>3</th>\n",
              "      <td>Luis</td>\n",
              "      <td>2021-01-13 23:55:46</td>\n",
              "      <td>00:41:47</td>\n",
              "      <td>Autoplayed: user action: Unspecified;</td>\n",
              "      <td>O Segredo dos Animais</td>\n",
              "      <td>NaN</td>\n",
              "      <td>Sony PS3</td>\n",
              "      <td>00:41:42</td>\n",
              "      <td>00:41:42</td>\n",
              "      <td>BR (Brazil)</td>\n",
              "    </tr>\n",
              "    <tr>\n",
              "      <th>4</th>\n",
              "      <td>Luis</td>\n",
              "      <td>2021-01-13 23:54:07</td>\n",
              "      <td>00:00:05</td>\n",
              "      <td>Autoplayed: user action: None;</td>\n",
              "      <td>Trailer: Pequenos Grandes Heróis</td>\n",
              "      <td>TRAILER</td>\n",
              "      <td>Sony PS3</td>\n",
              "      <td>00:00:05</td>\n",
              "      <td>00:00:05</td>\n",
              "      <td>BR (Brazil)</td>\n",
              "    </tr>\n",
              "  </tbody>\n",
              "</table>\n",
              "</div>"
            ],
            "text/plain": [
              "  Profile Name           Start Time  ...  Latest Bookmark      Country\n",
              "0     Carolina  2021-01-14 02:06:14  ...         00:16:35  BR (Brazil)\n",
              "1     Carolina  2021-01-14 01:23:01  ...         00:46:53  BR (Brazil)\n",
              "2     Carolina  2021-01-14 00:45:42  ...  Not latest view  BR (Brazil)\n",
              "3         Luis  2021-01-13 23:55:46  ...         00:41:42  BR (Brazil)\n",
              "4         Luis  2021-01-13 23:54:07  ...         00:00:05  BR (Brazil)\n",
              "\n",
              "[5 rows x 10 columns]"
            ]
          },
          "metadata": {
            "tags": []
          },
          "execution_count": 48
        }
      ]
    },
    {
      "cell_type": "markdown",
      "metadata": {
        "id": "ZwvyqW603VoE"
      },
      "source": [
        "### **Tratamento dos dados**"
      ]
    },
    {
      "cell_type": "code",
      "metadata": {
        "id": "kOxrvMT26_zy"
      },
      "source": [
        "#Filtrando somente para o meu usuário\n",
        "df_carol = df[(df['Profile Name']==\"Carolina\")]"
      ],
      "execution_count": 49,
      "outputs": []
    },
    {
      "cell_type": "code",
      "metadata": {
        "colab": {
          "base_uri": "https://localhost:8080/"
        },
        "id": "pAkRozbs9QGO",
        "outputId": "6dcbe511-9c23-4d80-c09c-019969a1c044"
      },
      "source": [
        "#Quantas variáveis e quantas entradas o dataset tem?\n",
        "print('Variáveis: {}'.format(df_carol.shape[1]))\n",
        "print('Entradas: {}'.format(df_carol.shape[0]))"
      ],
      "execution_count": 50,
      "outputs": [
        {
          "output_type": "stream",
          "text": [
            "Variáveis: 10\n",
            "Entradas: 3802\n"
          ],
          "name": "stdout"
        }
      ]
    },
    {
      "cell_type": "code",
      "metadata": {
        "colab": {
          "base_uri": "https://localhost:8080/"
        },
        "id": "sgOOQ6NjrrkG",
        "outputId": "1caf0f31-2c0e-494c-ea12-b9f49216d716"
      },
      "source": [
        "#Dados faltantes\n",
        "df_carol.isnull().sum()"
      ],
      "execution_count": 51,
      "outputs": [
        {
          "output_type": "execute_result",
          "data": {
            "text/plain": [
              "Profile Name                  0\n",
              "Start Time                    0\n",
              "Duration                      0\n",
              "Attributes                 2420\n",
              "Title                         0\n",
              "Supplemental Video Type    3581\n",
              "Device Type                   0\n",
              "Bookmark                      0\n",
              "Latest Bookmark               0\n",
              "Country                       0\n",
              "dtype: int64"
            ]
          },
          "metadata": {
            "tags": []
          },
          "execution_count": 51
        }
      ]
    },
    {
      "cell_type": "code",
      "metadata": {
        "id": "00VciOLRCYDa"
      },
      "source": [
        "#filtrar apenas para Seriados (excluir filmes ou documentários)\n",
        "df_seriado = df_carol[df_carol['Title'].str.contains(': Temporada', regex = False)]"
      ],
      "execution_count": 52,
      "outputs": []
    },
    {
      "cell_type": "code",
      "metadata": {
        "colab": {
          "base_uri": "https://localhost:8080/"
        },
        "id": "-PUmY5z7E588",
        "outputId": "f8ba73d0-55c1-4e76-a8bd-1e7185145ef4"
      },
      "source": [
        "#Criar novas colunas com o nome, a temporada e o episódio da série\n",
        "df_seriado[['Name','Season','Episode']] =df_seriado['Title'].str.split(':',n=2,expand=True)"
      ],
      "execution_count": 53,
      "outputs": [
        {
          "output_type": "stream",
          "text": [
            "/usr/local/lib/python3.7/dist-packages/pandas/core/frame.py:3069: SettingWithCopyWarning: \n",
            "A value is trying to be set on a copy of a slice from a DataFrame.\n",
            "Try using .loc[row_indexer,col_indexer] = value instead\n",
            "\n",
            "See the caveats in the documentation: https://pandas.pydata.org/pandas-docs/stable/user_guide/indexing.html#returning-a-view-versus-a-copy\n",
            "  self[k1] = value[k2]\n"
          ],
          "name": "stderr"
        }
      ]
    },
    {
      "cell_type": "code",
      "metadata": {
        "id": "bc-FcDBAn40p"
      },
      "source": [
        "# Eliminar colunas que não serão utilizadas\n",
        "df_seriado = df_seriado.drop(['Profile Name','Attributes','Title','Supplemental Video Type',\n",
        "                 'Bookmark','Latest Bookmark','Country'],axis = 1)"
      ],
      "execution_count": 54,
      "outputs": []
    },
    {
      "cell_type": "code",
      "metadata": {
        "colab": {
          "base_uri": "https://localhost:8080/",
          "height": 204
        },
        "id": "skhZx95ic-UQ",
        "outputId": "2a1250ae-fed6-4df2-c3d3-fce0040c635f"
      },
      "source": [
        "df_seriado.head()"
      ],
      "execution_count": 55,
      "outputs": [
        {
          "output_type": "execute_result",
          "data": {
            "text/html": [
              "<div>\n",
              "<style scoped>\n",
              "    .dataframe tbody tr th:only-of-type {\n",
              "        vertical-align: middle;\n",
              "    }\n",
              "\n",
              "    .dataframe tbody tr th {\n",
              "        vertical-align: top;\n",
              "    }\n",
              "\n",
              "    .dataframe thead th {\n",
              "        text-align: right;\n",
              "    }\n",
              "</style>\n",
              "<table border=\"1\" class=\"dataframe\">\n",
              "  <thead>\n",
              "    <tr style=\"text-align: right;\">\n",
              "      <th></th>\n",
              "      <th>Start Time</th>\n",
              "      <th>Duration</th>\n",
              "      <th>Device Type</th>\n",
              "      <th>Name</th>\n",
              "      <th>Season</th>\n",
              "      <th>Episode</th>\n",
              "    </tr>\n",
              "  </thead>\n",
              "  <tbody>\n",
              "    <tr>\n",
              "      <th>0</th>\n",
              "      <td>2021-01-14 02:06:14</td>\n",
              "      <td>00:00:11</td>\n",
              "      <td>Chrome PC (Cadmium)</td>\n",
              "      <td>Instant Hotel</td>\n",
              "      <td>Temporada 1</td>\n",
              "      <td>Episódio 1 (Episódio 1)</td>\n",
              "    </tr>\n",
              "    <tr>\n",
              "      <th>1</th>\n",
              "      <td>2021-01-14 01:23:01</td>\n",
              "      <td>00:43:11</td>\n",
              "      <td>Chrome PC (Cadmium)</td>\n",
              "      <td>Instant Hotel</td>\n",
              "      <td>Temporada 2</td>\n",
              "      <td>Episódio 6 (Episódio 6)</td>\n",
              "    </tr>\n",
              "    <tr>\n",
              "      <th>2</th>\n",
              "      <td>2021-01-14 00:45:42</td>\n",
              "      <td>00:01:20</td>\n",
              "      <td>Chrome PC (Cadmium)</td>\n",
              "      <td>Instant Hotel</td>\n",
              "      <td>Temporada 2</td>\n",
              "      <td>Episódio 6 (Episódio 6)</td>\n",
              "    </tr>\n",
              "    <tr>\n",
              "      <th>5</th>\n",
              "      <td>2021-01-13 23:40:30</td>\n",
              "      <td>00:48:30</td>\n",
              "      <td>Chrome PC (Cadmium)</td>\n",
              "      <td>Instant Hotel</td>\n",
              "      <td>Temporada 2</td>\n",
              "      <td>Episódio 5 (Episódio 5)</td>\n",
              "    </tr>\n",
              "    <tr>\n",
              "      <th>6</th>\n",
              "      <td>2021-01-13 21:05:00</td>\n",
              "      <td>00:08:18</td>\n",
              "      <td>DefaultWidevineAndroidPhone</td>\n",
              "      <td>Instant Hotel</td>\n",
              "      <td>Temporada 2</td>\n",
              "      <td>Episódio 5 (Episódio 5)</td>\n",
              "    </tr>\n",
              "  </tbody>\n",
              "</table>\n",
              "</div>"
            ],
            "text/plain": [
              "            Start Time  Duration  ...        Season                   Episode\n",
              "0  2021-01-14 02:06:14  00:00:11  ...   Temporada 1   Episódio 1 (Episódio 1)\n",
              "1  2021-01-14 01:23:01  00:43:11  ...   Temporada 2   Episódio 6 (Episódio 6)\n",
              "2  2021-01-14 00:45:42  00:01:20  ...   Temporada 2   Episódio 6 (Episódio 6)\n",
              "5  2021-01-13 23:40:30  00:48:30  ...   Temporada 2   Episódio 5 (Episódio 5)\n",
              "6  2021-01-13 21:05:00  00:08:18  ...   Temporada 2   Episódio 5 (Episódio 5)\n",
              "\n",
              "[5 rows x 6 columns]"
            ]
          },
          "metadata": {
            "tags": []
          },
          "execution_count": 55
        }
      ]
    },
    {
      "cell_type": "code",
      "metadata": {
        "colab": {
          "base_uri": "https://localhost:8080/"
        },
        "id": "68zHgzURU3Ta",
        "outputId": "55eac6d9-df8a-4c94-fb79-806db4a5294f"
      },
      "source": [
        "# Variáveis\n",
        "df_seriado.columns"
      ],
      "execution_count": 56,
      "outputs": [
        {
          "output_type": "execute_result",
          "data": {
            "text/plain": [
              "Index(['Start Time', 'Duration', 'Device Type', 'Name', 'Season', 'Episode'], dtype='object')"
            ]
          },
          "metadata": {
            "tags": []
          },
          "execution_count": 56
        }
      ]
    },
    {
      "cell_type": "markdown",
      "metadata": {
        "id": "5v-cy1xUXkN2"
      },
      "source": [
        "**Dicionário das Variáveis**\n",
        "\n",
        "* `Start Time` - Data e hora que começou a assistir o episódio.\n",
        "* `Duration` - Quanto tempo assistiu daquele episódio.\n",
        "* `Device Type` - Device que utilizou para assistir o episódio.\n",
        "* `Name` - Nome da série.\n",
        "* `Season` - Temporada da série.\n",
        "* `Episode` - Nome do episódio.\n"
      ]
    },
    {
      "cell_type": "code",
      "metadata": {
        "colab": {
          "base_uri": "https://localhost:8080/"
        },
        "id": "tuBfxjWnOQFC",
        "outputId": "98e5aa0d-e8fb-4e2e-89c9-a2424ac3c19b"
      },
      "source": [
        "df_seriado.dtypes"
      ],
      "execution_count": 57,
      "outputs": [
        {
          "output_type": "execute_result",
          "data": {
            "text/plain": [
              "Start Time     object\n",
              "Duration       object\n",
              "Device Type    object\n",
              "Name           object\n",
              "Season         object\n",
              "Episode        object\n",
              "dtype: object"
            ]
          },
          "metadata": {
            "tags": []
          },
          "execution_count": 57
        }
      ]
    },
    {
      "cell_type": "markdown",
      "metadata": {
        "id": "dxb7Vds9kClP"
      },
      "source": [
        "Converter algumas variáveis do tipo 'objeto' para formato que seja possível realizar cálculos no Pandas\n"
      ]
    },
    {
      "cell_type": "code",
      "metadata": {
        "id": "8w8RXM7FGsY0"
      },
      "source": [
        "# Converter a coluna Start Time em datetime\n",
        "df_seriado['Start Time'] = pd.to_datetime(df_seriado['Start Time'], utc = True)"
      ],
      "execution_count": 58,
      "outputs": []
    },
    {
      "cell_type": "code",
      "metadata": {
        "id": "EB24syloHG8g"
      },
      "source": [
        "# Alterar a coluna Start Time para índice\n",
        "df_seriado = df_seriado.set_index('Start Time')\n",
        "\n",
        "# Converter o fuso horário para de São Paulo\n",
        "df_seriado.index = df_seriado.index.tz_convert('America/Sao_Paulo')\n",
        "\n",
        "# Reset do índice para Start Time voltar a ser coluna\n",
        "df_seriado = df_seriado.reset_index()\n"
      ],
      "execution_count": 59,
      "outputs": []
    },
    {
      "cell_type": "code",
      "metadata": {
        "id": "lESLceNZO2M-"
      },
      "source": [
        "# Converter a coluna Duration em time delta, um formato de duração (diferença entre duas datas)\n",
        "df_seriado['Duration'] = pd.to_timedelta(df_seriado['Duration'])"
      ],
      "execution_count": 60,
      "outputs": []
    },
    {
      "cell_type": "code",
      "metadata": {
        "colab": {
          "base_uri": "https://localhost:8080/",
          "height": 204
        },
        "id": "QYYW4ga5nTDz",
        "outputId": "dde83bbb-21b6-402e-9911-e29afaff3619"
      },
      "source": [
        "df_seriado.head()"
      ],
      "execution_count": 61,
      "outputs": [
        {
          "output_type": "execute_result",
          "data": {
            "text/html": [
              "<div>\n",
              "<style scoped>\n",
              "    .dataframe tbody tr th:only-of-type {\n",
              "        vertical-align: middle;\n",
              "    }\n",
              "\n",
              "    .dataframe tbody tr th {\n",
              "        vertical-align: top;\n",
              "    }\n",
              "\n",
              "    .dataframe thead th {\n",
              "        text-align: right;\n",
              "    }\n",
              "</style>\n",
              "<table border=\"1\" class=\"dataframe\">\n",
              "  <thead>\n",
              "    <tr style=\"text-align: right;\">\n",
              "      <th></th>\n",
              "      <th>Start Time</th>\n",
              "      <th>Duration</th>\n",
              "      <th>Device Type</th>\n",
              "      <th>Name</th>\n",
              "      <th>Season</th>\n",
              "      <th>Episode</th>\n",
              "    </tr>\n",
              "  </thead>\n",
              "  <tbody>\n",
              "    <tr>\n",
              "      <th>0</th>\n",
              "      <td>2021-01-14 00:06:14-02:00</td>\n",
              "      <td>0 days 00:00:11</td>\n",
              "      <td>Chrome PC (Cadmium)</td>\n",
              "      <td>Instant Hotel</td>\n",
              "      <td>Temporada 1</td>\n",
              "      <td>Episódio 1 (Episódio 1)</td>\n",
              "    </tr>\n",
              "    <tr>\n",
              "      <th>1</th>\n",
              "      <td>2021-01-13 23:23:01-02:00</td>\n",
              "      <td>0 days 00:43:11</td>\n",
              "      <td>Chrome PC (Cadmium)</td>\n",
              "      <td>Instant Hotel</td>\n",
              "      <td>Temporada 2</td>\n",
              "      <td>Episódio 6 (Episódio 6)</td>\n",
              "    </tr>\n",
              "    <tr>\n",
              "      <th>2</th>\n",
              "      <td>2021-01-13 22:45:42-02:00</td>\n",
              "      <td>0 days 00:01:20</td>\n",
              "      <td>Chrome PC (Cadmium)</td>\n",
              "      <td>Instant Hotel</td>\n",
              "      <td>Temporada 2</td>\n",
              "      <td>Episódio 6 (Episódio 6)</td>\n",
              "    </tr>\n",
              "    <tr>\n",
              "      <th>3</th>\n",
              "      <td>2021-01-13 21:40:30-02:00</td>\n",
              "      <td>0 days 00:48:30</td>\n",
              "      <td>Chrome PC (Cadmium)</td>\n",
              "      <td>Instant Hotel</td>\n",
              "      <td>Temporada 2</td>\n",
              "      <td>Episódio 5 (Episódio 5)</td>\n",
              "    </tr>\n",
              "    <tr>\n",
              "      <th>4</th>\n",
              "      <td>2021-01-13 19:05:00-02:00</td>\n",
              "      <td>0 days 00:08:18</td>\n",
              "      <td>DefaultWidevineAndroidPhone</td>\n",
              "      <td>Instant Hotel</td>\n",
              "      <td>Temporada 2</td>\n",
              "      <td>Episódio 5 (Episódio 5)</td>\n",
              "    </tr>\n",
              "  </tbody>\n",
              "</table>\n",
              "</div>"
            ],
            "text/plain": [
              "                 Start Time  ...                   Episode\n",
              "0 2021-01-14 00:06:14-02:00  ...   Episódio 1 (Episódio 1)\n",
              "1 2021-01-13 23:23:01-02:00  ...   Episódio 6 (Episódio 6)\n",
              "2 2021-01-13 22:45:42-02:00  ...   Episódio 6 (Episódio 6)\n",
              "3 2021-01-13 21:40:30-02:00  ...   Episódio 5 (Episódio 5)\n",
              "4 2021-01-13 19:05:00-02:00  ...   Episódio 5 (Episódio 5)\n",
              "\n",
              "[5 rows x 6 columns]"
            ]
          },
          "metadata": {
            "tags": []
          },
          "execution_count": 61
        }
      ]
    },
    {
      "cell_type": "markdown",
      "metadata": {
        "id": "itoPk3RG6eym"
      },
      "source": [
        "Se observarmos acima, existem plays com segundos de duração. Normalmente são aqueles trailers que começam automaticamente ou até mesmo quando você desiste de assistir aquele episódio. \n",
        "\n",
        "Então para não atrapalhar a análise, vou filtrar a base para Duração acima de 5 minutos.  "
      ]
    },
    {
      "cell_type": "code",
      "metadata": {
        "colab": {
          "base_uri": "https://localhost:8080/"
        },
        "id": "DCnzanEO4k2z",
        "outputId": "b5e6cd3e-1a10-4786-a497-5c6d5cd59e58"
      },
      "source": [
        "df_seriado = df_seriado[(df_seriado['Duration'] > '0 days 00:05:00')]\n",
        "df_seriado.shape"
      ],
      "execution_count": 62,
      "outputs": [
        {
          "output_type": "execute_result",
          "data": {
            "text/plain": [
              "(2550, 6)"
            ]
          },
          "metadata": {
            "tags": []
          },
          "execution_count": 62
        }
      ]
    },
    {
      "cell_type": "markdown",
      "metadata": {
        "id": "63WDq9eN3loT"
      },
      "source": [
        "### **Análise de Dados**"
      ]
    },
    {
      "cell_type": "markdown",
      "metadata": {
        "id": "2oDdf_o2Rwd1"
      },
      "source": [
        "**Quantas séries e quantos episódios eu assisti?**"
      ]
    },
    {
      "cell_type": "code",
      "metadata": {
        "colab": {
          "base_uri": "https://localhost:8080/"
        },
        "id": "ab0xUZ9mQLdZ",
        "outputId": "e3a01ec9-cc58-4520-b484-fa4d921c009a"
      },
      "source": [
        "print('Total de séries (diferentes) assistidas:\\t {}'.format(df_seriado['Name'].value_counts().nunique()))"
      ],
      "execution_count": 63,
      "outputs": [
        {
          "output_type": "stream",
          "text": [
            "Total de séries (diferentes) assistidas:\t 27\n"
          ],
          "name": "stdout"
        }
      ]
    },
    {
      "cell_type": "code",
      "metadata": {
        "colab": {
          "base_uri": "https://localhost:8080/"
        },
        "id": "elZSYUaqS8gQ",
        "outputId": "9d50b1bf-65f4-4533-b42b-3b856402329a"
      },
      "source": [
        "print('Total de episódios (diferentes) assistidos:\\t {}'.format(df_seriado['Episode'].nunique()))"
      ],
      "execution_count": 64,
      "outputs": [
        {
          "output_type": "stream",
          "text": [
            "Total de episódios (diferentes) assistidos:\t 985\n"
          ],
          "name": "stdout"
        }
      ]
    },
    {
      "cell_type": "markdown",
      "metadata": {
        "id": "-pCs1rJaFFY6"
      },
      "source": [
        "**Quanto tempo passei assistindo?**"
      ]
    },
    {
      "cell_type": "code",
      "metadata": {
        "colab": {
          "base_uri": "https://localhost:8080/"
        },
        "id": "23j-0Hl3qmiI",
        "outputId": "0b4d43bf-50ff-4589-9af6-5cdea3a10ebb"
      },
      "source": [
        "# Tempo total gasto assistindo séreis \n",
        "df_seriado['Duration'].sum()"
      ],
      "execution_count": 65,
      "outputs": [
        {
          "output_type": "execute_result",
          "data": {
            "text/plain": [
              "Timedelta('42 days 09:32:50')"
            ]
          },
          "metadata": {
            "tags": []
          },
          "execution_count": 65
        }
      ]
    },
    {
      "cell_type": "code",
      "metadata": {
        "colab": {
          "base_uri": "https://localhost:8080/"
        },
        "id": "HH6H8GUiwn8R",
        "outputId": "d45095f2-58d5-4463-d61d-43b525329d1f"
      },
      "source": [
        "# Top 5 - tempo gasto\n",
        "df_seriado.groupby('Name')['Duration'].sum().sort_values(ascending=False)[:5]"
      ],
      "execution_count": 66,
      "outputs": [
        {
          "output_type": "execute_result",
          "data": {
            "text/plain": [
              "Name\n",
              "A Anatomia de Grey   22 days 05:48:55\n",
              "Suits                 2 days 19:21:25\n",
              "Modern Family         2 days 05:54:45\n",
              "Friends               2 days 05:41:51\n",
              "Dexter                1 days 15:39:06\n",
              "Name: Duration, dtype: timedelta64[ns]"
            ]
          },
          "metadata": {
            "tags": []
          },
          "execution_count": 66
        }
      ]
    },
    {
      "cell_type": "markdown",
      "metadata": {
        "id": "uieL8xkjZtEk"
      },
      "source": [
        "**Quais séries eu assisti mais episódios?**"
      ]
    },
    {
      "cell_type": "code",
      "metadata": {
        "colab": {
          "base_uri": "https://localhost:8080/",
          "height": 245
        },
        "id": "TYZJwV5wHjqA",
        "outputId": "eb1d5192-9cf8-4233-ab73-19d6bb2c11d3"
      },
      "source": [
        "data = df_seriado.Name.value_counts()[:3].to_dict()\n",
        "\n",
        "# Plotar um gráfico com as três séries mais assistidas\n",
        "fig = plt.figure(\n",
        "                FigureClass=Waffle,\n",
        "                rows=7,\n",
        "                columns=11,\n",
        "                colors=(\"#232066\", \"#983D3D\", \"#DCB732\"),\n",
        "                values=data, icons='tv', icon_size=22,\n",
        "                legend={'loc': 'upper left', 'bbox_to_anchor': (1,1)},\n",
        "                icon_legend=True\n",
        "                )\n",
        "fig.set_tight_layout(False)\n",
        "plt.show();"
      ],
      "execution_count": 67,
      "outputs": [
        {
          "output_type": "display_data",
          "data": {
            "image/png": "[encoded data removed]",
            "text/plain": [
              "<Waffle size 432x288 with 1 Axes>"
            ]
          },
          "metadata": {
            "tags": [],
            "needs_background": "light"
          }
        }
      ]
    },
    {
      "cell_type": "code",
      "metadata": {
        "colab": {
          "base_uri": "https://localhost:8080/"
        },
        "id": "syJILQznSaiw",
        "outputId": "b25b1de1-f4ab-4766-b4bd-c6116c29900a"
      },
      "source": [
        "#top 10 \n",
        "df_seriado.Name.value_counts()[:5]"
      ],
      "execution_count": 68,
      "outputs": [
        {
          "output_type": "execute_result",
          "data": {
            "text/plain": [
              "A Anatomia de Grey    1233\n",
              "Modern Family          206\n",
              "Friends                195\n",
              "Suits                  177\n",
              "Dexter                  99\n",
              "Name: Name, dtype: int64"
            ]
          },
          "metadata": {
            "tags": []
          },
          "execution_count": 68
        }
      ]
    },
    {
      "cell_type": "code",
      "metadata": {
        "id": "Md5XTiLTjt-l"
      },
      "source": [
        "# Criar colunas de dia da semana, hora, mês e ano\n",
        "df_seriado['weekday']= df_seriado['Start Time'].dt.day_name()\n",
        "df_seriado['hour'] = df_seriado['Start Time'].dt.hour\n",
        "df_seriado['month'] = df_seriado['Start Time'].dt.month\n",
        "df_seriado['year'] = df_seriado['Start Time'].dt.year"
      ],
      "execution_count": 69,
      "outputs": []
    },
    {
      "cell_type": "markdown",
      "metadata": {
        "id": "NEjgPg06q3mm"
      },
      "source": [
        "**Em que ano eu assisti mais séries?**"
      ]
    },
    {
      "cell_type": "code",
      "metadata": {
        "colab": {
          "base_uri": "https://localhost:8080/",
          "height": 430
        },
        "id": "fgCqhYvG2alr",
        "outputId": "6fb288bb-9c2a-4814-b182-8d61621bb780"
      },
      "source": [
        "df_seriado['year'].value_counts().sort_index().plot(kind='bar',color = 'indianred')\n",
        "plt.title('Episódios por ano')\n",
        "plt.xlabel('Ano')\n",
        "plt.ylabel('Nº de episódios')\n",
        "plt.show();\n",
        "\n",
        "df_seriado['year'].value_counts().sort_index()"
      ],
      "execution_count": 70,
      "outputs": [
        {
          "output_type": "display_data",
          "data": {
            "image/png": "[encoded data removed]",
            "text/plain": [
              "<Figure size 432x288 with 1 Axes>"
            ]
          },
          "metadata": {
            "tags": [],
            "needs_background": "light"
          }
        },
        {
          "output_type": "execute_result",
          "data": {
            "text/plain": [
              "2016     49\n",
              "2017    694\n",
              "2018    762\n",
              "2019    354\n",
              "2020    679\n",
              "2021     12\n",
              "Name: year, dtype: int64"
            ]
          },
          "metadata": {
            "tags": []
          },
          "execution_count": 70
        }
      ]
    },
    {
      "cell_type": "markdown",
      "metadata": {
        "id": "GKGDLFOS-I8T"
      },
      "source": [
        "Os anos que eu mais assisti foram 2017, 2018 e 2020. \n",
        "Importante observar que fiz minha assinatura em dezembro de 2016 e que esses dados contemplam apenas um mês de 2021, então podemos considerar que só o ano de 2019 foi \"atípico\" para mim (assisti menos da metade do que o costume). "
      ]
    },
    {
      "cell_type": "markdown",
      "metadata": {
        "id": "VOA9n56k_X3t"
      },
      "source": [
        "**Em que mês assisti mais séries?**"
      ]
    },
    {
      "cell_type": "code",
      "metadata": {
        "colab": {
          "base_uri": "https://localhost:8080/",
          "height": 315
        },
        "id": "FtusR12KMAJN",
        "outputId": "481db05e-33e2-49ea-cb9f-a2e487f8535f"
      },
      "source": [
        "df_seriado['month'].value_counts().sort_index().plot(kind='bar', color = 'indianred')\n",
        "plt.title('Episódios por mês')\n",
        "plt.xlabel('Mês')\n",
        "plt.ylabel('Nº de episódios')\n",
        "plt.show();\n",
        "\n",
        "# Mostrar a média de episódios\n",
        "print(\"Média de episódios assistidos:\\t {:.2f}\".format(df_seriado['month'].value_counts().mean()))"
      ],
      "execution_count": 71,
      "outputs": [
        {
          "output_type": "display_data",
          "data": {
            "image/png": "[encoded data removed]",
            "text/plain": [
              "<Figure size 432x288 with 1 Axes>"
            ]
          },
          "metadata": {
            "tags": [],
            "needs_background": "light"
          }
        },
        {
          "output_type": "stream",
          "text": [
            "Média de episódios assistidos:\t 212.50\n"
          ],
          "name": "stdout"
        }
      ]
    },
    {
      "cell_type": "markdown",
      "metadata": {
        "id": "GWXmd00PsY0B"
      },
      "source": [
        "Ao longo desse tempo, eu assisti em média 212 episódios por mês. Destaque para os meses de maio, junho e agosto. "
      ]
    },
    {
      "cell_type": "markdown",
      "metadata": {
        "id": "U0hrSRybmV85"
      },
      "source": [
        "**Em quais dias da semana costumo assistir mais séries?** "
      ]
    },
    {
      "cell_type": "code",
      "metadata": {
        "colab": {
          "base_uri": "https://localhost:8080/",
          "height": 432
        },
        "id": "rzPye_k0O-Jq",
        "outputId": "4bfb529f-c26a-4572-ac25-44cfca248d31"
      },
      "source": [
        "df_seriado['weekday'].value_counts().sort_values(ascending=True).plot(kind='barh', color = 'indianred')\n",
        "plt.title('Episódios por dia')\n",
        "plt.xlabel('Nº de episódios')\n",
        "plt.ylabel('Dia da semana')\n",
        "plt.show();\n",
        "\n",
        "# Mostrar a quantidade em cada dia\n",
        "df_seriado['weekday'].value_counts().sort_values(ascending=False)\n"
      ],
      "execution_count": 72,
      "outputs": [
        {
          "output_type": "display_data",
          "data": {
            "image/png": "[encoded data removed]",
            "text/plain": [
              "<Figure size 432x288 with 1 Axes>"
            ]
          },
          "metadata": {
            "tags": [],
            "needs_background": "light"
          }
        },
        {
          "output_type": "execute_result",
          "data": {
            "text/plain": [
              "Wednesday    463\n",
              "Thursday     421\n",
              "Tuesday      402\n",
              "Monday       377\n",
              "Friday       375\n",
              "Sunday       279\n",
              "Saturday     233\n",
              "Name: weekday, dtype: int64"
            ]
          },
          "metadata": {
            "tags": []
          },
          "execution_count": 72
        }
      ]
    },
    {
      "cell_type": "markdown",
      "metadata": {
        "id": "2Aig_Y3yEAGv"
      },
      "source": [
        "Surpreendemente, para algumas pessoas, os dias que menos assisto seriado são os finais de semana. \n",
        "Parando pensar na minha rotina, realmente tenho mais costume de assistir ao longo da semana do que sábados e domingos, que são dias que normalmente acabo tendo alguma programação com amigos ou família."
      ]
    },
    {
      "cell_type": "markdown",
      "metadata": {
        "id": "hVtQyoHUlgFv"
      },
      "source": [
        "**Quais os devices mais utilizados?**"
      ]
    },
    {
      "cell_type": "markdown",
      "metadata": {
        "id": "ZVWJE_6hmv3c"
      },
      "source": [
        "É possível assistir Netflix de diversas formas, seja computador, TV, celular, tablet ou video-games. Eu, por exemplo, assisto muito mais no navegador do computador do que na TV. \n",
        "E também gosto de fazer download de episódios no celular para assistir depois. Essa opção é tudo! (E economiza 4G, rs)"
      ]
    },
    {
      "cell_type": "code",
      "metadata": {
        "colab": {
          "base_uri": "https://localhost:8080/",
          "height": 415
        },
        "id": "mHolyn60a6ZP",
        "outputId": "58e19667-84ee-40b7-b412-c9946a30225d"
      },
      "source": [
        "df_seriado['Device Type'].value_counts().sort_values(ascending=True).plot(kind='barh', color = 'indianred')\n",
        "plt.title('Episódios por Device')\n",
        "plt.xlabel('Nº de episódios')\n",
        "plt.ylabel('Device')\n",
        "plt.show();\n",
        "df_seriado['Device Type'].value_counts()/df_seriado.shape[0]*100"
      ],
      "execution_count": 73,
      "outputs": [
        {
          "output_type": "display_data",
          "data": {
            "image/png": "[encoded data removed]",
            "text/plain": [
              "<Figure size 432x288 with 1 Axes>"
            ]
          },
          "metadata": {
            "tags": [],
            "needs_background": "light"
          }
        },
        {
          "output_type": "execute_result",
          "data": {
            "text/plain": [
              "Chrome PC (Cadmium)                                               45.058824\n",
              "LG LG 2017 MStar M2R Standard DTV Smart TV                        21.764706\n",
              "DefaultWidevineAndroidPhone                                       21.176471\n",
              "Android DefaultWidevineL3Phone Android Phone (motorola_MotoG3)     9.882353\n",
              "iPhone SE                                                          1.803922\n",
              "Firefox PC (Cadmium)                                               0.313725\n",
              "Name: Device Type, dtype: float64"
            ]
          },
          "metadata": {
            "tags": []
          },
          "execution_count": 73
        }
      ]
    },
    {
      "cell_type": "markdown",
      "metadata": {
        "id": "aZRNaSXswX-p"
      },
      "source": [
        "**Análise - Greys Anatomy**"
      ]
    },
    {
      "cell_type": "markdown",
      "metadata": {
        "id": "V3VEaHPr1w0Y"
      },
      "source": [
        "Como Greys é minha série preferida, não podia faltar uma análise só para ela. Vamos ver quais dados conseguimos extrair. "
      ]
    },
    {
      "cell_type": "code",
      "metadata": {
        "id": "plnNDPZp7MpC"
      },
      "source": [
        "#filtrar o dataset\n",
        "greys = df_seriado[df_seriado['Name'].str.contains('A Anatomia de Grey', regex=False)]"
      ],
      "execution_count": 74,
      "outputs": []
    },
    {
      "cell_type": "code",
      "metadata": {
        "colab": {
          "base_uri": "https://localhost:8080/"
        },
        "id": "2ZKT64S4dcMF",
        "outputId": "28ac0186-0655-4d26-e6fa-b778815f52ac"
      },
      "source": [
        "greys['year'].value_counts()"
      ],
      "execution_count": 75,
      "outputs": [
        {
          "output_type": "execute_result",
          "data": {
            "text/plain": [
              "2018    562\n",
              "2020    310\n",
              "2017    181\n",
              "2019    179\n",
              "2021      1\n",
              "Name: year, dtype: int64"
            ]
          },
          "metadata": {
            "tags": []
          },
          "execution_count": 75
        }
      ]
    },
    {
      "cell_type": "markdown",
      "metadata": {
        "id": "kBkOH5vu7tHi"
      },
      "source": [
        "Comecei a ver a série em 2017 e o ano em que mais assisti foi em 2018, em que Grey's correspondeu a mais de 70% do que foi assistido. Em 2019 e 2020 essa porcentagem caiu, mas ainda assim, aproximadamente metade dos meus plays na plataforma foram para (re)assistir a série queridinha."
      ]
    },
    {
      "cell_type": "code",
      "metadata": {
        "colab": {
          "base_uri": "https://localhost:8080/",
          "height": 311
        },
        "id": "ztcSzp3m07C7",
        "outputId": "cd485cb7-7b92-4a13-ff9c-c2979f330fc6"
      },
      "source": [
        "df_seriado.groupby(['year',df_seriado['Name']!='A Anatomia de Grey']).size().groupby(level=0).apply(\n",
        "    lambda x: 100 * x / x.sum()\n",
        ").unstack().plot(kind='bar',stacked=True, color =['#229084', '#983D3D'])\n",
        "\n",
        "plt.gca().yaxis.set_major_formatter(mtick.PercentFormatter())\n",
        "plt.legend(['Greys Anatomy','Outras'],loc='center left', bbox_to_anchor=(1, 0.5))\n",
        "plt.title('Qtd de episódios assistidos')\n",
        "plt.show()\n"
      ],
      "execution_count": 76,
      "outputs": [
        {
          "output_type": "display_data",
          "data": {
            "image/png": "[encoded data removed]",
            "text/plain": [
              "<Figure size 432x288 with 1 Axes>"
            ]
          },
          "metadata": {
            "tags": [],
            "needs_background": "light"
          }
        }
      ]
    },
    {
      "cell_type": "code",
      "metadata": {
        "colab": {
          "base_uri": "https://localhost:8080/"
        },
        "id": "A10baxOzrGzM",
        "outputId": "7ac51398-3bb2-4eb5-f719-3b40e8debeb2"
      },
      "source": [
        "greys['Duration'].sum()"
      ],
      "execution_count": 77,
      "outputs": [
        {
          "output_type": "execute_result",
          "data": {
            "text/plain": [
              "Timedelta('22 days 05:48:55')"
            ]
          },
          "metadata": {
            "tags": []
          },
          "execution_count": 77
        }
      ]
    },
    {
      "cell_type": "markdown",
      "metadata": {
        "id": "74PFu3ty72Bk"
      },
      "source": [
        "Anteriormente eu constatei que todo o tempo que passei assistindo Grey's totalizaram 22 dias. Mas temos que concordar que essa série é ETERNA! São muitas temporadas (e olha que na Netflix não tem todas)."
      ]
    },
    {
      "cell_type": "code",
      "metadata": {
        "colab": {
          "base_uri": "https://localhost:8080/"
        },
        "id": "ISIA9YXHNZFu",
        "outputId": "58a63aeb-38cd-49fa-d86e-d8e593c1e099"
      },
      "source": [
        "# Nº de temporadas\n",
        "df_seriado.groupby('Name')['Season'].nunique().sort_values(ascending = False).head(5)"
      ],
      "execution_count": 78,
      "outputs": [
        {
          "output_type": "execute_result",
          "data": {
            "text/plain": [
              "Name\n",
              "A Anatomia de Grey       15\n",
              "How I Met Your Mother     8\n",
              "Modern Family             7\n",
              "Suits                     7\n",
              "Friends                   7\n",
              "Name: Season, dtype: int64"
            ]
          },
          "metadata": {
            "tags": []
          },
          "execution_count": 78
        }
      ]
    },
    {
      "cell_type": "markdown",
      "metadata": {
        "id": "sQ1T1FFm8CLO"
      },
      "source": [
        "Importante lembrar que essa análise é do meu histórico de visualização. Ou seja, significa que eu dei play em episódios de 15 temporadas na Netflix - a série atualmente está na 17ª temporada."
      ]
    },
    {
      "cell_type": "code",
      "metadata": {
        "colab": {
          "base_uri": "https://localhost:8080/"
        },
        "id": "KX1TVWvFNwtN",
        "outputId": "4d970eed-6659-4c49-bf08-1f6051299257"
      },
      "source": [
        "# As 5 temporadas mais assistidas\n",
        "greys['Season'].value_counts()[:5]"
      ],
      "execution_count": 79,
      "outputs": [
        {
          "output_type": "execute_result",
          "data": {
            "text/plain": [
              " Temporada 2    222\n",
              " Temporada 3    162\n",
              " Temporada 5    150\n",
              " Temporada 8    113\n",
              " Temporada 4    112\n",
              "Name: Season, dtype: int64"
            ]
          },
          "metadata": {
            "tags": []
          },
          "execution_count": 79
        }
      ]
    },
    {
      "cell_type": "markdown",
      "metadata": {
        "id": "xHsk9NMb8KbS"
      },
      "source": [
        "A temporada que eu mais assisti foi a 2ª. Pra se ter uma ideia, cada temporada tem em média 24 episódios, então 222 plays é bastante coisa."
      ]
    },
    {
      "cell_type": "code",
      "metadata": {
        "colab": {
          "base_uri": "https://localhost:8080/"
        },
        "id": "4UU8Pc3Sjd-M",
        "outputId": "1f1aa7dd-0566-4dae-c865-bfaa7c137655"
      },
      "source": [
        "# Top 10 dos episódios mais assistidos\n",
        "greys['Episode'].value_counts()[:10]"
      ],
      "execution_count": 80,
      "outputs": [
        {
          "output_type": "execute_result",
          "data": {
            "text/plain": [
              " Motivo para falar (Episódio 7)                    16\n",
              " Lidando com a dor (Episódio 5)                    15\n",
              " Pega leve (Episódio 8)                            15\n",
              " É impossível negar (Episódio 4)                   13\n",
              " Muito demais (Episódio 10)                        13\n",
              " Desejando e torcendo (Episódio 14)                11\n",
              " Vovó foi atropelada por uma rena (Episódio 12)    11\n",
              " Ela se foi (Episódio 2)                           11\n",
              " Seis dias: Parte 1 (Episódio 11)                  11\n",
              " Admirável mundo novo (Episódio 4)                 11\n",
              "Name: Episode, dtype: int64"
            ]
          },
          "metadata": {
            "tags": []
          },
          "execution_count": 80
        }
      ]
    },
    {
      "cell_type": "markdown",
      "metadata": {
        "id": "xZpzakzD8YvU"
      },
      "source": [
        "Assistir 16 vezes o mesmo episódio já da pra gravar as falas, não é mesmo? hahaha."
      ]
    },
    {
      "cell_type": "code",
      "metadata": {
        "colab": {
          "base_uri": "https://localhost:8080/",
          "height": 385
        },
        "id": "XpBDSzI7Ppmh",
        "outputId": "b3f625e9-1c03-4e58-cbb2-fb7c91d96da1"
      },
      "source": [
        "greys['weekday'].value_counts().plot(kind='bar',color='indianred',figsize=(10,5))"
      ],
      "execution_count": 81,
      "outputs": [
        {
          "output_type": "execute_result",
          "data": {
            "text/plain": [
              "<matplotlib.axes._subplots.AxesSubplot at 0x7f0fc853c050>"
            ]
          },
          "metadata": {
            "tags": []
          },
          "execution_count": 81
        },
        {
          "output_type": "display_data",
          "data": {
            "image/png": "[encoded data removed]",
            "text/plain": [
              "<Figure size 720x360 with 1 Axes>"
            ]
          },
          "metadata": {
            "tags": [],
            "needs_background": "light"
          }
        }
      ]
    },
    {
      "cell_type": "code",
      "metadata": {
        "id": "IHkQXiWiR9pA",
        "colab": {
          "base_uri": "https://localhost:8080/",
          "height": 339
        },
        "outputId": "b0a06162-e70c-4d2a-ea5d-ca6c0b381121"
      },
      "source": [
        "greys['month'].value_counts().sort_index().plot(kind='bar', color='indianred',figsize=(10,5))"
      ],
      "execution_count": 82,
      "outputs": [
        {
          "output_type": "execute_result",
          "data": {
            "text/plain": [
              "<matplotlib.axes._subplots.AxesSubplot at 0x7f0fc83cbb50>"
            ]
          },
          "metadata": {
            "tags": []
          },
          "execution_count": 82
        },
        {
          "output_type": "display_data",
          "data": {
            "image/png": "[encoded data removed]",
            "text/plain": [
              "<Figure size 720x360 with 1 Axes>"
            ]
          },
          "metadata": {
            "tags": [],
            "needs_background": "light"
          }
        }
      ]
    }
  ]
}